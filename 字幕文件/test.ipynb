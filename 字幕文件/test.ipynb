{
 "cells": [
  {
   "cell_type": "code",
   "execution_count": 1,
   "metadata": {},
   "outputs": [],
   "source": [
    "import numpy as np"
   ]
  },
  {
   "cell_type": "code",
   "execution_count": 137,
   "metadata": {},
   "outputs": [
    {
     "name": "stdout",
     "output_type": "stream",
     "text": [
      "1049.9794590511528\n",
      "8.751840141485445e-14\n",
      "-0.5373669686209169\n"
     ]
    }
   ],
   "source": [
    "a = np.random.rand(100000)*100+1000\n",
    "mean = a.mean()\n",
    "print(a.mean())\n",
    "# 对训练集数据直接减均值\n",
    "b = a-mean\n",
    "print(b.mean())\n",
    "\n",
    "# 对每个batch操作，费时费力，但是结果相差不多（a均值为1050左右，而c的均值相差几乎也为0，当然是和1050的尺度相比）\n",
    "c = a.copy()\n",
    "for i in range(10000):\n",
    "    batch_mask = np.random.choice(a.size, 100)\n",
    "    batch = c[batch_mask]\n",
    "    mean_batch = batch.mean()\n",
    "    batch=batch-mean_batch\n",
    "    c[batch_mask] = batch # 覆盖\n",
    "print(c.mean())"
   ]
  }
 ],
 "metadata": {
  "kernelspec": {
   "display_name": "Python 3.8.13 ('dl')",
   "language": "python",
   "name": "python3"
  },
  "language_info": {
   "codemirror_mode": {
    "name": "ipython",
    "version": 3
   },
   "file_extension": ".py",
   "mimetype": "text/x-python",
   "name": "python",
   "nbconvert_exporter": "python",
   "pygments_lexer": "ipython3",
   "version": "3.8.13"
  },
  "orig_nbformat": 4,
  "vscode": {
   "interpreter": {
    "hash": "5d24d92e5a1ea2223cb3c9d9606be4255f9a504b6b2c4952f3c595bbbe1f811f"
   }
  }
 },
 "nbformat": 4,
 "nbformat_minor": 2
}
