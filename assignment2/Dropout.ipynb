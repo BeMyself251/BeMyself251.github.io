{
 "cells": [
  {
   "cell_type": "markdown",
   "metadata": {},
   "source": [
    "# Dropout\n",
    "Dropout[1]是一种神经网络正则化的技术，它通过在前向传递中将一些特征随机设置为0来实现。在这个练习中，您将实现一个dropout层，并修改您的全连接网络，以选择使用dropout。\n",
    "\n",
    "[1] Geoffrey E. Hinton et al, \"Improving neural networks by preventing co-adaptation of feature detectors\", arXiv 2012"
   ]
  },
  {
   "cell_type": "code",
   "execution_count": null,
   "metadata": {},
   "outputs": [
    {
     "name": "stdout",
     "output_type": "stream",
     "text": [
      "run the following from the cs231n directory and try again:\n",
      "python setup.py build_ext --inplace\n",
      "You may also need to restart your iPython kernel\n"
     ]
    }
   ],
   "source": [
    "# As usual, a bit of setup\n",
    "from __future__ import print_function\n",
    "import time\n",
    "import numpy as np\n",
    "import matplotlib.pyplot as plt\n",
    "from cs231n.classifiers.fc_net import *\n",
    "from cs231n.data_utils import get_CIFAR10_data\n",
    "from cs231n.gradient_check import eval_numerical_gradient, eval_numerical_gradient_array\n",
    "from cs231n.solver import Solver\n",
    "\n",
    "%matplotlib inline\n",
    "plt.rcParams['figure.figsize'] = (10.0, 8.0) # set default size of plots\n",
    "plt.rcParams['image.interpolation'] = 'nearest'\n",
    "plt.rcParams['image.cmap'] = 'gray'\n",
    "\n",
    "# for auto-reloading external modules\n",
    "# see http://stackoverflow.com/questions/1907993/autoreload-of-modules-in-ipython\n",
    "%load_ext autoreload\n",
    "%autoreload 2\n",
    "\n",
    "def rel_error(x, y):\n",
    "  \"\"\" returns relative error \"\"\"\n",
    "  return np.max(np.abs(x - y) / (np.maximum(1e-8, np.abs(x) + np.abs(y))))"
   ]
  },
  {
   "cell_type": "code",
   "execution_count": 2,
   "metadata": {},
   "outputs": [
    {
     "name": "stdout",
     "output_type": "stream",
     "text": [
      "X_train:  (49000, 3, 32, 32)\n",
      "y_train:  (49000,)\n",
      "X_val:  (1000, 3, 32, 32)\n",
      "y_val:  (1000,)\n",
      "X_test:  (1000, 3, 32, 32)\n",
      "y_test:  (1000,)\n"
     ]
    }
   ],
   "source": [
    "# Load the (preprocessed) CIFAR10 data.\n",
    "\n",
    "data = get_CIFAR10_data()\n",
    "for k, v in data.items():\n",
    "  print('%s: ' % k, v.shape)"
   ]
  },
  {
   "cell_type": "markdown",
   "metadata": {},
   "source": [
    "# Dropout forward pass\n",
    "在文件`cs231n/layers.py`，为dropout执行向前传递。由于dropout在训练和测试期间的行为不同，请确保实现两种模式的操作。\n",
    "完成之后，运行下面的单元以测试您的实现。"
   ]
  },
  {
   "cell_type": "code",
   "execution_count": 3,
   "metadata": {},
   "outputs": [
    {
     "name": "stdout",
     "output_type": "stream",
     "text": [
      "Running tests with p =  0.3\n",
      "Mean of input:  10.000207878477502\n",
      "Mean of train-time output:  10.035072797050494\n",
      "Mean of test-time output:  10.000207878477502\n",
      "Fraction of train-time output set to zero:  0.699124\n",
      "Fraction of test-time output set to zero:  0.0\n",
      "\n",
      "Running tests with p =  0.6\n",
      "Mean of input:  10.000207878477502\n",
      "Mean of train-time output:  9.976910758765856\n",
      "Mean of test-time output:  10.000207878477502\n",
      "Fraction of train-time output set to zero:  0.401368\n",
      "Fraction of test-time output set to zero:  0.0\n",
      "\n",
      "Running tests with p =  0.75\n",
      "Mean of input:  10.000207878477502\n",
      "Mean of train-time output:  9.993068588261146\n",
      "Mean of test-time output:  10.000207878477502\n",
      "Fraction of train-time output set to zero:  0.250496\n",
      "Fraction of test-time output set to zero:  0.0\n",
      "\n"
     ]
    }
   ],
   "source": [
    "np.random.seed(231)\n",
    "x = np.random.randn(500, 500) + 10\n",
    "\n",
    "for p in [0.3, 0.6, 0.75]:\n",
    "  out, _ = dropout_forward(x, {'mode': 'train', 'p': p})\n",
    "  out_test, _ = dropout_forward(x, {'mode': 'test', 'p': p})\n",
    "\n",
    "  print('Running tests with p = ', p)\n",
    "  print('Mean of input: ', x.mean())\n",
    "  print('Mean of train-time output: ', out.mean())\n",
    "  print('Mean of test-time output: ', out_test.mean())\n",
    "  print('Fraction of train-time output set to zero: ', (out == 0).mean())\n",
    "  print('Fraction of test-time output set to zero: ', (out_test == 0).mean())\n",
    "  print()"
   ]
  },
  {
   "cell_type": "markdown",
   "metadata": {},
   "source": [
    "# Dropout backward pass\n",
    "在文件`cs231n/layers.py`，实现dropout的向后传递。这样做之后，运行以下单元格来进行数值梯度检查。"
   ]
  },
  {
   "cell_type": "code",
   "execution_count": 4,
   "metadata": {},
   "outputs": [
    {
     "name": "stdout",
     "output_type": "stream",
     "text": [
      "dx relative error:  1.8928964971078328e-11\n"
     ]
    }
   ],
   "source": [
    "np.random.seed(231)\n",
    "x = np.random.randn(10, 10) + 10\n",
    "dout = np.random.randn(*x.shape)\n",
    "\n",
    "dropout_param = {'mode': 'train', 'p': 0.8, 'seed': 123}\n",
    "out, cache = dropout_forward(x, dropout_param)\n",
    "dx = dropout_backward(dout, cache)\n",
    "dx_num = eval_numerical_gradient_array(lambda xx: dropout_forward(xx, dropout_param)[0], x, dout)\n",
    "\n",
    "print('dx relative error: ', rel_error(dx, dx_num))"
   ]
  },
  {
   "cell_type": "markdown",
   "metadata": {},
   "source": [
    "## Inline Question 1:\n",
    "What happens if we do not divide the values being passed through inverse dropout by `p` in the dropout layer? Why does that happen?\n",
    "\n",
    "那么我们就需要在测试阶段让结果乘以p，换句话说，就不是inverted Dropout了，因为不除以p会导致输出的期望发生改变，一般来说，我们不想让使用了Dropout的网络在测试阶段和正常网络有所不同。"
   ]
  },
  {
   "cell_type": "markdown",
   "metadata": {},
   "source": [
    "# Fully-connected nets with Dropout\n",
    "在文件`cs231n/classifiers/fc_net`中。修改您的实现以使用dropout。从表面上看，如果网络的构造函数为“dropout”参数接收到一个非零值，那么网络应该在每个ReLU非线性之后立即添加dropout。这样做之后，运行下面的代码来对实现进行数值梯度检查。"
   ]
  },
  {
   "cell_type": "code",
   "execution_count": 5,
   "metadata": {},
   "outputs": [
    {
     "name": "stdout",
     "output_type": "stream",
     "text": [
      "Running check with dropout =  0\n",
      "Initial loss:  2.3004790897684924\n",
      "W1 relative error: 1.48e-07\n",
      "W2 relative error: 2.21e-05\n",
      "W3 relative error: 3.53e-07\n",
      "b1 relative error: 5.38e-09\n",
      "b2 relative error: 2.09e-09\n",
      "b3 relative error: 5.80e-11\n",
      "\n",
      "Running check with dropout =  0.25\n",
      "Initial loss:  2.2924325088330475\n",
      "W1 relative error: 2.74e-08\n",
      "W2 relative error: 2.98e-09\n",
      "W3 relative error: 4.29e-09\n",
      "b1 relative error: 7.78e-10\n",
      "b2 relative error: 3.36e-10\n",
      "b3 relative error: 1.65e-10\n",
      "\n",
      "Running check with dropout =  0.5\n",
      "Initial loss:  2.3042759220785896\n",
      "W1 relative error: 3.11e-07\n",
      "W2 relative error: 1.84e-08\n",
      "W3 relative error: 5.35e-08\n",
      "b1 relative error: 5.37e-09\n",
      "b2 relative error: 2.99e-09\n",
      "b3 relative error: 1.13e-10\n",
      "\n",
      "Running check with dropout =  0.75\n",
      "Initial loss:  2.302848733153321\n",
      "W1 relative error: 7.87e-07\n",
      "W2 relative error: 1.45e-07\n",
      "W3 relative error: 1.70e-07\n",
      "b1 relative error: 1.83e-08\n",
      "b2 relative error: 2.81e-09\n",
      "b3 relative error: 1.49e-10\n",
      "\n",
      "Running check with dropout =  1\n",
      "Initial loss:  2.30485979047391\n",
      "W1 relative error: 8.77e-07\n",
      "W2 relative error: 3.64e-07\n",
      "W3 relative error: 6.33e-08\n",
      "b1 relative error: 1.22e-07\n",
      "b2 relative error: 4.50e-09\n",
      "b3 relative error: 1.15e-10\n",
      "\n"
     ]
    }
   ],
   "source": [
    "np.random.seed(231)\n",
    "N, D, H1, H2, C = 2, 15, 20, 30, 10\n",
    "X = np.random.randn(N, D)\n",
    "y = np.random.randint(C, size=(N,))\n",
    "\n",
    "for dropout in [0, 0.25, 0.5, 0.75, 1]:\n",
    "  print('Running check with dropout = ', dropout)\n",
    "  model = FullyConnectedNet([H1, H2], input_dim=D, num_classes=C,\n",
    "                            weight_scale=5e-2, dtype=np.float64,\n",
    "                            dropout=dropout, seed=123)\n",
    "  loss, grads = model.loss(X, y)\n",
    "  \n",
    "  print('Initial loss: ', loss)\n",
    "\n",
    "  for name in sorted(grads):\n",
    "    f = lambda _: model.loss(X, y)[0]\n",
    "    grad_num = eval_numerical_gradient(f, model.params[name], verbose=False, h=1e-5)\n",
    "    print('%s relative error: %.2e' % (name, rel_error(grad_num, grads[name])))\n",
    "  print()"
   ]
  },
  {
   "cell_type": "markdown",
   "metadata": {},
   "source": [
    "# 正则化实验\n",
    "作为一个实验，我们将在500个训练示例上训练网络,然后，我们将在一段时间内可视化这几个网络的训练和验证准确性。"
   ]
  },
  {
   "cell_type": "code",
   "execution_count": 24,
   "metadata": {
    "scrolled": false
   },
   "outputs": [
    {
     "name": "stdout",
     "output_type": "stream",
     "text": [
      "(Iteration 1 / 50) loss: 6.619109\n",
      "(Epoch 0 / 25) train acc: 0.250000; val_acc: 0.134000\n",
      "(Epoch 1 / 25) train acc: 0.295000; val_acc: 0.188000\n",
      "(Epoch 2 / 25) train acc: 0.350000; val_acc: 0.172000\n",
      "(Epoch 3 / 25) train acc: 0.355000; val_acc: 0.159000\n",
      "(Epoch 4 / 25) train acc: 0.475000; val_acc: 0.211000\n",
      "(Epoch 5 / 25) train acc: 0.565000; val_acc: 0.255000\n",
      "(Epoch 6 / 25) train acc: 0.580000; val_acc: 0.213000\n",
      "(Epoch 7 / 25) train acc: 0.585000; val_acc: 0.175000\n",
      "(Epoch 8 / 25) train acc: 0.640000; val_acc: 0.185000\n",
      "(Epoch 9 / 25) train acc: 0.720000; val_acc: 0.219000\n",
      "(Epoch 10 / 25) train acc: 0.690000; val_acc: 0.223000\n",
      "(Epoch 11 / 25) train acc: 0.790000; val_acc: 0.245000\n",
      "(Epoch 12 / 25) train acc: 0.845000; val_acc: 0.250000\n",
      "(Epoch 13 / 25) train acc: 0.850000; val_acc: 0.220000\n",
      "(Epoch 14 / 25) train acc: 0.865000; val_acc: 0.185000\n",
      "(Epoch 15 / 25) train acc: 0.870000; val_acc: 0.207000\n",
      "(Epoch 16 / 25) train acc: 0.935000; val_acc: 0.219000\n",
      "(Epoch 17 / 25) train acc: 0.920000; val_acc: 0.235000\n",
      "(Epoch 18 / 25) train acc: 0.915000; val_acc: 0.256000\n",
      "(Epoch 19 / 25) train acc: 0.945000; val_acc: 0.241000\n",
      "(Epoch 20 / 25) train acc: 0.975000; val_acc: 0.246000\n",
      "(Epoch 21 / 25) train acc: 0.945000; val_acc: 0.233000\n",
      "(Epoch 22 / 25) train acc: 0.960000; val_acc: 0.231000\n",
      "(Epoch 23 / 25) train acc: 0.970000; val_acc: 0.225000\n",
      "(Epoch 24 / 25) train acc: 0.955000; val_acc: 0.218000\n",
      "(Epoch 25 / 25) train acc: 0.985000; val_acc: 0.236000\n",
      "(Iteration 1 / 50) loss: 17.104447\n",
      "(Epoch 0 / 25) train acc: 0.210000; val_acc: 0.127000\n",
      "(Epoch 1 / 25) train acc: 0.260000; val_acc: 0.177000\n",
      "(Epoch 2 / 25) train acc: 0.375000; val_acc: 0.185000\n",
      "(Epoch 3 / 25) train acc: 0.385000; val_acc: 0.183000\n",
      "(Epoch 4 / 25) train acc: 0.480000; val_acc: 0.224000\n",
      "(Epoch 5 / 25) train acc: 0.560000; val_acc: 0.217000\n",
      "(Epoch 6 / 25) train acc: 0.655000; val_acc: 0.225000\n",
      "(Epoch 7 / 25) train acc: 0.590000; val_acc: 0.232000\n",
      "(Epoch 8 / 25) train acc: 0.620000; val_acc: 0.266000\n",
      "(Epoch 9 / 25) train acc: 0.725000; val_acc: 0.241000\n",
      "(Epoch 10 / 25) train acc: 0.710000; val_acc: 0.210000\n",
      "(Epoch 11 / 25) train acc: 0.730000; val_acc: 0.217000\n",
      "(Epoch 12 / 25) train acc: 0.700000; val_acc: 0.227000\n",
      "(Epoch 13 / 25) train acc: 0.730000; val_acc: 0.257000\n",
      "(Epoch 14 / 25) train acc: 0.810000; val_acc: 0.250000\n",
      "(Epoch 15 / 25) train acc: 0.825000; val_acc: 0.225000\n",
      "(Epoch 16 / 25) train acc: 0.820000; val_acc: 0.227000\n",
      "(Epoch 17 / 25) train acc: 0.825000; val_acc: 0.234000\n",
      "(Epoch 18 / 25) train acc: 0.790000; val_acc: 0.238000\n",
      "(Epoch 19 / 25) train acc: 0.835000; val_acc: 0.248000\n",
      "(Epoch 20 / 25) train acc: 0.920000; val_acc: 0.263000\n",
      "(Epoch 21 / 25) train acc: 0.925000; val_acc: 0.255000\n",
      "(Epoch 22 / 25) train acc: 0.915000; val_acc: 0.253000\n",
      "(Epoch 23 / 25) train acc: 0.910000; val_acc: 0.264000\n",
      "(Epoch 24 / 25) train acc: 0.935000; val_acc: 0.261000\n",
      "(Epoch 25 / 25) train acc: 0.950000; val_acc: 0.256000\n"
     ]
    }
   ],
   "source": [
    "# Train two identical nets, one with dropout and one without\n",
    "np.random.seed(231)\n",
    "num_train = 200\n",
    "small_data = {\n",
    "  'X_train': data['X_train'][:num_train],\n",
    "  'y_train': data['y_train'][:num_train],\n",
    "  'X_val': data['X_val'],\n",
    "  'y_val': data['y_val'],\n",
    "}\n",
    "\n",
    "solvers = {}\n",
    "dropout_choices = [0, 0.2]\n",
    "for dropout in dropout_choices:\n",
    "  model = FullyConnectedNet([500], dropout=dropout)\n",
    "\n",
    "  solver = Solver(model, small_data,\n",
    "                  num_epochs=25, batch_size=100,\n",
    "                  update_rule='adam',\n",
    "                  optim_config={\n",
    "                    'learning_rate': 5e-4,\n",
    "                  },\n",
    "                  verbose=True, print_every=100)\n",
    "  solver.train()\n",
    "  solvers[dropout] = solver"
   ]
  },
  {
   "cell_type": "code",
   "execution_count": 25,
   "metadata": {},
   "outputs": [
    {
     "data": {
      "image/png": "[encoded data removed]",
      "text/plain": [
       "<Figure size 1080x1080 with 2 Axes>"
      ]
     },
     "metadata": {
      "needs_background": "light"
     },
     "output_type": "display_data"
    }
   ],
   "source": [
    "# Plot train and validation accuracies of the two models\n",
    "\n",
    "train_accs = []\n",
    "val_accs = []\n",
    "for dropout in dropout_choices:\n",
    "  solver = solvers[dropout]\n",
    "  train_accs.append(solver.train_acc_history[-1])\n",
    "  val_accs.append(solver.val_acc_history[-1])\n",
    "\n",
    "plt.subplot(3, 1, 1)\n",
    "for dropout in dropout_choices:\n",
    "  plt.plot(solvers[dropout].train_acc_history, '-o', label='%.2f dropout' % dropout)\n",
    "plt.title('Train accuracy')\n",
    "plt.xlabel('Epoch')\n",
    "plt.ylabel('Accuracy')\n",
    "plt.legend(ncol=2, loc='lower right')\n",
    "  \n",
    "plt.subplot(3, 1, 2)\n",
    "for dropout in dropout_choices:\n",
    "  plt.plot(solvers[dropout].val_acc_history, '-o', label='%.2f dropout' % dropout)\n",
    "plt.title('Val accuracy')\n",
    "plt.xlabel('Epoch')\n",
    "plt.ylabel('Accuracy')\n",
    "plt.legend(ncol=2, loc='lower right')\n",
    "\n",
    "plt.gcf().set_size_inches(15, 15)\n",
    "plt.show()"
   ]
  },
  {
   "cell_type": "markdown",
   "metadata": {},
   "source": [
    "## Inline Question 2:\n",
    "Compare the validation and training accuracies with and without dropout -- what do your results suggest about dropout as a regularizer?"
   ]
  },
  {
   "cell_type": "markdown",
   "metadata": {},
   "source": [
    "## Answer:\n",
    "\n",
    "这表明了Dropout对于抑制过拟合有比较好的效果，在图中可以看到虽然使用了Dropout的网络在训练集的精度稍微下降，但是在验证集上取得了比较好的效果。"
   ]
  },
  {
   "cell_type": "markdown",
   "metadata": {},
   "source": [
    "# Answer\n",
    "在一定程度上抑制了过拟合"
   ]
  },
  {
   "cell_type": "code",
   "execution_count": null,
   "metadata": {},
   "outputs": [],
   "source": []
  }
 ],
 "metadata": {
  "kernelspec": {
   "display_name": "Python 3.8.13 ('dl')",
   "language": "python",
   "name": "python3"
  },
  "language_info": {
   "codemirror_mode": {
    "name": "ipython",
    "version": 3
   },
   "file_extension": ".py",
   "mimetype": "text/x-python",
   "name": "python",
   "nbconvert_exporter": "python",
   "pygments_lexer": "ipython3",
   "version": "3.8.13"
  },
  "vscode": {
   "interpreter": {
    "hash": "5d24d92e5a1ea2223cb3c9d9606be4255f9a504b6b2c4952f3c595bbbe1f811f"
   }
  }
 },
 "nbformat": 4,
 "nbformat_minor": 1
}
